{
  "nbformat": 4,
  "nbformat_minor": 0,
  "metadata": {
    "colab": {
      "name": "Time Series Project.ipynb",
      "provenance": [],
      "collapsed_sections": [],
      "authorship_tag": "ABX9TyPpn4a874ZppsoJXgxGWXJ6",
      "include_colab_link": true
    },
    "kernelspec": {
      "name": "python3",
      "display_name": "Python 3"
    },
    "language_info": {
      "name": "python"
    }
  },
  "cells": [
    {
      "cell_type": "markdown",
      "metadata": {
        "id": "view-in-github",
        "colab_type": "text"
      },
      "source": [
        "<a href=\"https://colab.research.google.com/github/AgufSamudra/Time-Series-Project/blob/main/Time_Series_Project.ipynb\" target=\"_parent\"><img src=\"https://colab.research.google.com/assets/colab-badge.svg\" alt=\"Open In Colab\"/></a>"
      ]
    },
    {
      "cell_type": "markdown",
      "source": [
        "# Import Library"
      ],
      "metadata": {
        "id": "Gr2ePbQALnNU"
      }
    },
    {
      "cell_type": "code",
      "execution_count": 1,
      "metadata": {
        "id": "dhZ-BYctySnL"
      },
      "outputs": [],
      "source": [
        "import numpy as np\n",
        "import pandas as pd\n",
        "from keras.layers import Dense, LSTM, Bidirectional\n",
        "import matplotlib.pyplot as plt\n",
        "import tensorflow as tf\n",
        "from sklearn.model_selection import train_test_split"
      ]
    },
    {
      "cell_type": "markdown",
      "source": [
        "# Import the Dataset\n",
        "\n",
        "Frist we have import the dataset, and dataset we will use the name is a datatraining.txt.\n",
        "\n",
        "also we add **delimiter** because our data has a comma seperator.\n"
      ],
      "metadata": {
        "id": "PL4SlK1rNWK7"
      }
    },
    {
      "cell_type": "code",
      "source": [
        "df = pd.read_csv('datatraining.txt', delimiter=',', quoting = 3)\n",
        "df.head()"
      ],
      "metadata": {
        "colab": {
          "base_uri": "https://localhost:8080/",
          "height": 206
        },
        "id": "Z2zfRsTIws3S",
        "outputId": "44605c15-519e-4c56-87be-f096e69f4df8"
      },
      "execution_count": 2,
      "outputs": [
        {
          "output_type": "execute_result",
          "data": {
            "text/html": [
              "\n",
              "  <div id=\"df-3f956e40-134a-49ae-8743-193034e20301\">\n",
              "    <div class=\"colab-df-container\">\n",
              "      <div>\n",
              "<style scoped>\n",
              "    .dataframe tbody tr th:only-of-type {\n",
              "        vertical-align: middle;\n",
              "    }\n",
              "\n",
              "    .dataframe tbody tr th {\n",
              "        vertical-align: top;\n",
              "    }\n",
              "\n",
              "    .dataframe thead th {\n",
              "        text-align: right;\n",
              "    }\n",
              "</style>\n",
              "<table border=\"1\" class=\"dataframe\">\n",
              "  <thead>\n",
              "    <tr style=\"text-align: right;\">\n",
              "      <th></th>\n",
              "      <th>\"date\"</th>\n",
              "      <th>\"Temperature\"</th>\n",
              "      <th>\"Humidity\"</th>\n",
              "      <th>\"Light\"</th>\n",
              "      <th>\"CO2\"</th>\n",
              "      <th>\"HumidityRatio\"</th>\n",
              "      <th>\"Occupancy\"</th>\n",
              "    </tr>\n",
              "  </thead>\n",
              "  <tbody>\n",
              "    <tr>\n",
              "      <th>\"1\"</th>\n",
              "      <td>\"2015-02-04 17:51:00\"</td>\n",
              "      <td>23.18</td>\n",
              "      <td>27.2720</td>\n",
              "      <td>426.0</td>\n",
              "      <td>721.25</td>\n",
              "      <td>0.004793</td>\n",
              "      <td>1</td>\n",
              "    </tr>\n",
              "    <tr>\n",
              "      <th>\"2\"</th>\n",
              "      <td>\"2015-02-04 17:51:59\"</td>\n",
              "      <td>23.15</td>\n",
              "      <td>27.2675</td>\n",
              "      <td>429.5</td>\n",
              "      <td>714.00</td>\n",
              "      <td>0.004783</td>\n",
              "      <td>1</td>\n",
              "    </tr>\n",
              "    <tr>\n",
              "      <th>\"3\"</th>\n",
              "      <td>\"2015-02-04 17:53:00\"</td>\n",
              "      <td>23.15</td>\n",
              "      <td>27.2450</td>\n",
              "      <td>426.0</td>\n",
              "      <td>713.50</td>\n",
              "      <td>0.004779</td>\n",
              "      <td>1</td>\n",
              "    </tr>\n",
              "    <tr>\n",
              "      <th>\"4\"</th>\n",
              "      <td>\"2015-02-04 17:54:00\"</td>\n",
              "      <td>23.15</td>\n",
              "      <td>27.2000</td>\n",
              "      <td>426.0</td>\n",
              "      <td>708.25</td>\n",
              "      <td>0.004772</td>\n",
              "      <td>1</td>\n",
              "    </tr>\n",
              "    <tr>\n",
              "      <th>\"5\"</th>\n",
              "      <td>\"2015-02-04 17:55:00\"</td>\n",
              "      <td>23.10</td>\n",
              "      <td>27.2000</td>\n",
              "      <td>426.0</td>\n",
              "      <td>704.50</td>\n",
              "      <td>0.004757</td>\n",
              "      <td>1</td>\n",
              "    </tr>\n",
              "  </tbody>\n",
              "</table>\n",
              "</div>\n",
              "      <button class=\"colab-df-convert\" onclick=\"convertToInteractive('df-3f956e40-134a-49ae-8743-193034e20301')\"\n",
              "              title=\"Convert this dataframe to an interactive table.\"\n",
              "              style=\"display:none;\">\n",
              "        \n",
              "  <svg xmlns=\"http://www.w3.org/2000/svg\" height=\"24px\"viewBox=\"0 0 24 24\"\n",
              "       width=\"24px\">\n",
              "    <path d=\"M0 0h24v24H0V0z\" fill=\"none\"/>\n",
              "    <path d=\"M18.56 5.44l.94 2.06.94-2.06 2.06-.94-2.06-.94-.94-2.06-.94 2.06-2.06.94zm-11 1L8.5 8.5l.94-2.06 2.06-.94-2.06-.94L8.5 2.5l-.94 2.06-2.06.94zm10 10l.94 2.06.94-2.06 2.06-.94-2.06-.94-.94-2.06-.94 2.06-2.06.94z\"/><path d=\"M17.41 7.96l-1.37-1.37c-.4-.4-.92-.59-1.43-.59-.52 0-1.04.2-1.43.59L10.3 9.45l-7.72 7.72c-.78.78-.78 2.05 0 2.83L4 21.41c.39.39.9.59 1.41.59.51 0 1.02-.2 1.41-.59l7.78-7.78 2.81-2.81c.8-.78.8-2.07 0-2.86zM5.41 20L4 18.59l7.72-7.72 1.47 1.35L5.41 20z\"/>\n",
              "  </svg>\n",
              "      </button>\n",
              "      \n",
              "  <style>\n",
              "    .colab-df-container {\n",
              "      display:flex;\n",
              "      flex-wrap:wrap;\n",
              "      gap: 12px;\n",
              "    }\n",
              "\n",
              "    .colab-df-convert {\n",
              "      background-color: #E8F0FE;\n",
              "      border: none;\n",
              "      border-radius: 50%;\n",
              "      cursor: pointer;\n",
              "      display: none;\n",
              "      fill: #1967D2;\n",
              "      height: 32px;\n",
              "      padding: 0 0 0 0;\n",
              "      width: 32px;\n",
              "    }\n",
              "\n",
              "    .colab-df-convert:hover {\n",
              "      background-color: #E2EBFA;\n",
              "      box-shadow: 0px 1px 2px rgba(60, 64, 67, 0.3), 0px 1px 3px 1px rgba(60, 64, 67, 0.15);\n",
              "      fill: #174EA6;\n",
              "    }\n",
              "\n",
              "    [theme=dark] .colab-df-convert {\n",
              "      background-color: #3B4455;\n",
              "      fill: #D2E3FC;\n",
              "    }\n",
              "\n",
              "    [theme=dark] .colab-df-convert:hover {\n",
              "      background-color: #434B5C;\n",
              "      box-shadow: 0px 1px 3px 1px rgba(0, 0, 0, 0.15);\n",
              "      filter: drop-shadow(0px 1px 2px rgba(0, 0, 0, 0.3));\n",
              "      fill: #FFFFFF;\n",
              "    }\n",
              "  </style>\n",
              "\n",
              "      <script>\n",
              "        const buttonEl =\n",
              "          document.querySelector('#df-3f956e40-134a-49ae-8743-193034e20301 button.colab-df-convert');\n",
              "        buttonEl.style.display =\n",
              "          google.colab.kernel.accessAllowed ? 'block' : 'none';\n",
              "\n",
              "        async function convertToInteractive(key) {\n",
              "          const element = document.querySelector('#df-3f956e40-134a-49ae-8743-193034e20301');\n",
              "          const dataTable =\n",
              "            await google.colab.kernel.invokeFunction('convertToInteractive',\n",
              "                                                     [key], {});\n",
              "          if (!dataTable) return;\n",
              "\n",
              "          const docLinkHtml = 'Like what you see? Visit the ' +\n",
              "            '<a target=\"_blank\" href=https://colab.research.google.com/notebooks/data_table.ipynb>data table notebook</a>'\n",
              "            + ' to learn more about interactive tables.';\n",
              "          element.innerHTML = '';\n",
              "          dataTable['output_type'] = 'display_data';\n",
              "          await google.colab.output.renderOutput(dataTable, element);\n",
              "          const docLink = document.createElement('div');\n",
              "          docLink.innerHTML = docLinkHtml;\n",
              "          element.appendChild(docLink);\n",
              "        }\n",
              "      </script>\n",
              "    </div>\n",
              "  </div>\n",
              "  "
            ],
            "text/plain": [
              "                    \"date\"  \"Temperature\"  \"Humidity\"  \"Light\"   \"CO2\"  \\\n",
              "\"1\"  \"2015-02-04 17:51:00\"          23.18     27.2720    426.0  721.25   \n",
              "\"2\"  \"2015-02-04 17:51:59\"          23.15     27.2675    429.5  714.00   \n",
              "\"3\"  \"2015-02-04 17:53:00\"          23.15     27.2450    426.0  713.50   \n",
              "\"4\"  \"2015-02-04 17:54:00\"          23.15     27.2000    426.0  708.25   \n",
              "\"5\"  \"2015-02-04 17:55:00\"          23.10     27.2000    426.0  704.50   \n",
              "\n",
              "     \"HumidityRatio\"  \"Occupancy\"  \n",
              "\"1\"         0.004793            1  \n",
              "\"2\"         0.004783            1  \n",
              "\"3\"         0.004779            1  \n",
              "\"4\"         0.004772            1  \n",
              "\"5\"         0.004757            1  "
            ]
          },
          "metadata": {},
          "execution_count": 2
        }
      ]
    },
    {
      "cell_type": "markdown",
      "source": [
        "And then we have to check the data, does the data have data loss.\n",
        "\n",
        "with fungtion **isnull().sum()** we can see the missing data from our data. But our data is not lost, so we don't need to fill in the missing data."
      ],
      "metadata": {
        "id": "Y_8KDMmAPAmD"
      }
    },
    {
      "cell_type": "code",
      "source": [
        "df.isnull().sum()"
      ],
      "metadata": {
        "colab": {
          "base_uri": "https://localhost:8080/"
        },
        "id": "F7UftC_qw8Nr",
        "outputId": "3a17193a-29a6-41ac-8610-43f10f382886"
      },
      "execution_count": 3,
      "outputs": [
        {
          "output_type": "execute_result",
          "data": {
            "text/plain": [
              "\"date\"             0\n",
              "\"Temperature\"      0\n",
              "\"Humidity\"         0\n",
              "\"Light\"            0\n",
              "\"CO2\"              0\n",
              "\"HumidityRatio\"    0\n",
              "\"Occupancy\"        0\n",
              "dtype: int64"
            ]
          },
          "metadata": {},
          "execution_count": 3
        }
      ]
    },
    {
      "cell_type": "markdown",
      "source": [
        "Also we will check the data with **info()**"
      ],
      "metadata": {
        "id": "KmoVq3zaQdr9"
      }
    },
    {
      "cell_type": "code",
      "source": [
        "df.info()"
      ],
      "metadata": {
        "colab": {
          "base_uri": "https://localhost:8080/"
        },
        "id": "Vcx13y83xGAi",
        "outputId": "c8713d3e-9ce6-46d0-a443-9683b50b2903"
      },
      "execution_count": 4,
      "outputs": [
        {
          "output_type": "stream",
          "name": "stdout",
          "text": [
            "<class 'pandas.core.frame.DataFrame'>\n",
            "Index: 8143 entries, \"1\" to \"8143\"\n",
            "Data columns (total 7 columns):\n",
            " #   Column           Non-Null Count  Dtype  \n",
            "---  ------           --------------  -----  \n",
            " 0   \"date\"           8143 non-null   object \n",
            " 1   \"Temperature\"    8143 non-null   float64\n",
            " 2   \"Humidity\"       8143 non-null   float64\n",
            " 3   \"Light\"          8143 non-null   float64\n",
            " 4   \"CO2\"            8143 non-null   float64\n",
            " 5   \"HumidityRatio\"  8143 non-null   float64\n",
            " 6   \"Occupancy\"      8143 non-null   int64  \n",
            "dtypes: float64(5), int64(1), object(1)\n",
            "memory usage: 508.9+ KB\n"
          ]
        }
      ]
    },
    {
      "cell_type": "markdown",
      "source": [
        "# Split the data to Training Set and Test Set\n",
        "\n",
        "Because what we need is the date and Temperature column, so we only take that column. We can leave the rest.\n",
        "\n",
        "And look at the visuals of the dataset."
      ],
      "metadata": {
        "id": "bpi_JAdQQvCR"
      }
    },
    {
      "cell_type": "code",
      "source": [
        "X = df.iloc[:, 0].values\n",
        "y = df.iloc[:, 1].values\n",
        "\n",
        "plt.figure(figsize=(15,9))\n",
        "plt.plot(X, y)\n",
        "plt.title('Temperature average',\n",
        "          fontsize=20);\n",
        "\n",
        "X_train, X_test, y_train, y_test = train_test_split(X, y, test_size = 0.2, shuffle=False)"
      ],
      "metadata": {
        "colab": {
          "base_uri": "https://localhost:8080/",
          "height": 558
        },
        "id": "LkIZsJ3zxHH4",
        "outputId": "d7509d7b-8530-4be1-ab05-7fed1a85f5a3"
      },
      "execution_count": 5,
      "outputs": [
        {
          "output_type": "display_data",
          "data": {
            "image/png": "[encoded data removed]",
            "text/plain": [
              "<Figure size 1080x648 with 1 Axes>"
            ]
          },
          "metadata": {
            "needs_background": "light"
          }
        }
      ]
    },
    {
      "cell_type": "markdown",
      "source": [
        "###Then we create a function to receive a series/attribute that we have converted to numpy type, then return the labels and attributes of the dataset in batch form."
      ],
      "metadata": {
        "id": "jwjVKkNsSTFr"
      }
    },
    {
      "cell_type": "code",
      "source": [
        "def windowed_dataset(series, window_size, batch_size, shuffle_buffer):\n",
        "  series = tf.expand_dims(series, axis=-1)\n",
        "  ds = tf.data.Dataset.from_tensor_slices(series)\n",
        "  ds = ds.window(window_size + 1, shift = 1, drop_remainder=True)\n",
        "  ds = ds.flat_map(lambda w: w.batch(window_size + 1))\n",
        "  ds = ds.shuffle(shuffle_buffer)\n",
        "  ds = ds.map(lambda w: (w[:-1], w[-1:]))\n",
        "  return ds.batch(batch_size).prefetch(1)"
      ],
      "metadata": {
        "id": "fqOu8GQHx9uD"
      },
      "execution_count": 6,
      "outputs": []
    },
    {
      "cell_type": "markdown",
      "source": [
        "# Make a Architecture\n",
        "\n",
        "Also we will create the architecture for our Time Series model."
      ],
      "metadata": {
        "id": "ypjXNTjZTi2U"
      }
    },
    {
      "cell_type": "code",
      "source": [
        "train_set = windowed_dataset(y_train, window_size=32, batch_size=50, shuffle_buffer=1000)\n",
        "val_set = windowed_dataset(y_test, window_size=32, batch_size=50, shuffle_buffer=1000)\n",
        "model = tf.keras.models.Sequential([\n",
        "  tf.keras.layers.LSTM(60, return_sequences=True),\n",
        "  tf.keras.layers.LSTM(60),\n",
        "  tf.keras.layers.Dense(512, activation=\"relu\"),\n",
        "  tf.keras.layers.Dropout(0.25),\n",
        "  tf.keras.layers.Dense(128, activation=\"relu\"),\n",
        "  tf.keras.layers.Dense(64, activation=\"relu\"),\n",
        "  tf.keras.layers.Dense(1),\n",
        "])"
      ],
      "metadata": {
        "id": "qUWok-4ox-y5"
      },
      "execution_count": 7,
      "outputs": []
    },
    {
      "cell_type": "markdown",
      "source": [
        "# Make a Callback Class\n",
        "\n",
        "Since we will be aiming for the MAE of the model < 10% of the data scale, we will see what score we want to achieve."
      ],
      "metadata": {
        "id": "zSuWqx--T567"
      }
    },
    {
      "cell_type": "code",
      "source": [
        "Mae = (df['\"Temperature\"'].max() - df['\"Temperature\"'].min()) * 10/100\n",
        "print(Mae)"
      ],
      "metadata": {
        "colab": {
          "base_uri": "https://localhost:8080/"
        },
        "id": "9rtoBx96yF7T",
        "outputId": "0321cbf8-e402-4ac1-f0bd-4c170d4908ed"
      },
      "execution_count": 8,
      "outputs": [
        {
          "output_type": "stream",
          "name": "stdout",
          "text": [
            "0.418\n"
          ]
        }
      ]
    },
    {
      "cell_type": "markdown",
      "source": [
        "We create a Callback Class"
      ],
      "metadata": {
        "id": "AVuRChx9VC9F"
      }
    },
    {
      "cell_type": "code",
      "source": [
        "class myCallback(tf.keras.callbacks.Callback):\n",
        "  def on_epoch_end(self, epoch, logs={}):\n",
        "    if(logs.get('mae')<0.4 and logs.get('val_mae')<0.4):\n",
        "      print(\"\\nMAE dari model < 10% skala data\")\n",
        "      self.model.stop_training = True\n",
        "callbacks = myCallback()"
      ],
      "metadata": {
        "id": "H13FGzcLywxF"
      },
      "execution_count": 9,
      "outputs": []
    },
    {
      "cell_type": "markdown",
      "source": [
        "### Optimizer and Train the Dataset\n",
        "\n"
      ],
      "metadata": {
        "id": "kbT1-7k6VLJk"
      }
    },
    {
      "cell_type": "code",
      "source": [
        "optimizer = tf.keras.optimizers.SGD(lr=1.0000e-04, momentum=0.9)\n",
        "model.compile(loss=tf.keras.losses.Huber(),\n",
        "              optimizer=optimizer,\n",
        "              metrics=[\"mae\"])\n",
        "history = model.fit(train_set,epochs=100,validation_data = val_set,callbacks=[callbacks])"
      ],
      "metadata": {
        "colab": {
          "base_uri": "https://localhost:8080/"
        },
        "id": "2i0PHJlfy6EL",
        "outputId": "acdd413f-4e84-4bb6-aa01-a97c7ef6b8f6"
      },
      "execution_count": 11,
      "outputs": [
        {
          "output_type": "stream",
          "name": "stdout",
          "text": [
            "Epoch 1/100\n"
          ]
        },
        {
          "output_type": "stream",
          "name": "stderr",
          "text": [
            "/usr/local/lib/python3.7/dist-packages/keras/optimizer_v2/gradient_descent.py:102: UserWarning: The `lr` argument is deprecated, use `learning_rate` instead.\n",
            "  super(SGD, self).__init__(name, **kwargs)\n"
          ]
        },
        {
          "output_type": "stream",
          "name": "stdout",
          "text": [
            "130/130 [==============================] - 22s 98ms/step - loss: 0.2501 - mae: 0.5838 - val_loss: 0.0481 - val_mae: 0.3011\n",
            "Epoch 2/100\n",
            "130/130 [==============================] - 7s 53ms/step - loss: 0.2417 - mae: 0.5729 - val_loss: 0.0945 - val_mae: 0.4275\n",
            "Epoch 3/100\n",
            "130/130 [==============================] - 7s 54ms/step - loss: 0.2382 - mae: 0.5671 - val_loss: 0.1111 - val_mae: 0.4647\n",
            "Epoch 4/100\n",
            "130/130 [==============================] - 7s 53ms/step - loss: 0.2383 - mae: 0.5681 - val_loss: 0.0312 - val_mae: 0.2371\n",
            "Epoch 5/100\n",
            "130/130 [==============================] - 7s 56ms/step - loss: 0.2449 - mae: 0.5742 - val_loss: 0.1187 - val_mae: 0.4815\n",
            "Epoch 6/100\n",
            "130/130 [==============================] - 7s 54ms/step - loss: 0.2338 - mae: 0.5616 - val_loss: 0.0548 - val_mae: 0.3227\n",
            "Epoch 7/100\n",
            "130/130 [==============================] - 7s 55ms/step - loss: 0.2227 - mae: 0.5458 - val_loss: 0.0233 - val_mae: 0.2041\n",
            "Epoch 8/100\n",
            "130/130 [==============================] - 7s 52ms/step - loss: 0.2292 - mae: 0.5567 - val_loss: 0.0577 - val_mae: 0.3322\n",
            "Epoch 9/100\n",
            "130/130 [==============================] - 7s 53ms/step - loss: 0.2380 - mae: 0.5677 - val_loss: 0.0245 - val_mae: 0.2052\n",
            "Epoch 10/100\n",
            "130/130 [==============================] - 7s 55ms/step - loss: 0.2253 - mae: 0.5482 - val_loss: 0.0548 - val_mae: 0.3227\n",
            "Epoch 11/100\n",
            "130/130 [==============================] - 9s 71ms/step - loss: 0.2123 - mae: 0.5313 - val_loss: 0.1549 - val_mae: 0.5525\n",
            "Epoch 12/100\n",
            "130/130 [==============================] - 7s 52ms/step - loss: 0.2144 - mae: 0.5372 - val_loss: 0.0696 - val_mae: 0.3669\n",
            "Epoch 13/100\n",
            "130/130 [==============================] - 7s 54ms/step - loss: 0.2178 - mae: 0.5392 - val_loss: 0.0943 - val_mae: 0.4288\n",
            "Epoch 14/100\n",
            "130/130 [==============================] - 7s 52ms/step - loss: 0.2137 - mae: 0.5330 - val_loss: 0.0373 - val_mae: 0.2630\n",
            "Epoch 15/100\n",
            "130/130 [==============================] - 7s 51ms/step - loss: 0.2096 - mae: 0.5274 - val_loss: 0.0923 - val_mae: 0.4240\n",
            "Epoch 16/100\n",
            "130/130 [==============================] - 7s 53ms/step - loss: 0.2151 - mae: 0.5348 - val_loss: 0.1917 - val_mae: 0.6148\n",
            "Epoch 17/100\n",
            "130/130 [==============================] - 7s 55ms/step - loss: 0.2071 - mae: 0.5221 - val_loss: 0.2155 - val_mae: 0.6528\n",
            "Epoch 18/100\n",
            "130/130 [==============================] - 7s 53ms/step - loss: 0.2103 - mae: 0.5292 - val_loss: 0.0792 - val_mae: 0.3899\n",
            "Epoch 19/100\n",
            "130/130 [==============================] - 7s 52ms/step - loss: 0.2041 - mae: 0.5218 - val_loss: 0.0919 - val_mae: 0.4230\n",
            "Epoch 20/100\n",
            "130/130 [==============================] - 7s 52ms/step - loss: 0.1949 - mae: 0.5105 - val_loss: 0.0906 - val_mae: 0.4202\n",
            "Epoch 21/100\n",
            "130/130 [==============================] - 7s 54ms/step - loss: 0.1953 - mae: 0.5067 - val_loss: 0.1131 - val_mae: 0.4707\n",
            "Epoch 22/100\n",
            "130/130 [==============================] - 7s 54ms/step - loss: 0.1978 - mae: 0.5120 - val_loss: 0.1300 - val_mae: 0.5056\n",
            "Epoch 23/100\n",
            "130/130 [==============================] - 7s 54ms/step - loss: 0.1928 - mae: 0.5039 - val_loss: 0.0583 - val_mae: 0.3349\n",
            "Epoch 24/100\n",
            "130/130 [==============================] - 8s 61ms/step - loss: 0.1995 - mae: 0.5116 - val_loss: 0.0309 - val_mae: 0.2393\n",
            "Epoch 25/100\n",
            "130/130 [==============================] - 8s 59ms/step - loss: 0.1978 - mae: 0.5101 - val_loss: 0.0255 - val_mae: 0.2153\n",
            "Epoch 26/100\n",
            "130/130 [==============================] - 7s 56ms/step - loss: 0.1851 - mae: 0.4911 - val_loss: 0.1115 - val_mae: 0.4670\n",
            "Epoch 27/100\n",
            "130/130 [==============================] - 7s 55ms/step - loss: 0.1864 - mae: 0.4955 - val_loss: 0.0462 - val_mae: 0.2964\n",
            "Epoch 28/100\n",
            "130/130 [==============================] - 7s 56ms/step - loss: 0.1903 - mae: 0.5015 - val_loss: 0.1007 - val_mae: 0.4434\n",
            "Epoch 29/100\n",
            "130/130 [==============================] - 8s 56ms/step - loss: 0.1873 - mae: 0.4979 - val_loss: 0.0190 - val_mae: 0.1836\n",
            "Epoch 30/100\n",
            "130/130 [==============================] - 7s 54ms/step - loss: 0.1897 - mae: 0.5011 - val_loss: 0.0624 - val_mae: 0.3453\n",
            "Epoch 31/100\n",
            "130/130 [==============================] - 7s 55ms/step - loss: 0.1775 - mae: 0.4812 - val_loss: 0.0713 - val_mae: 0.3711\n",
            "Epoch 32/100\n",
            "130/130 [==============================] - 8s 57ms/step - loss: 0.1795 - mae: 0.4859 - val_loss: 0.0691 - val_mae: 0.3650\n",
            "Epoch 33/100\n",
            "130/130 [==============================] - 7s 55ms/step - loss: 0.1783 - mae: 0.4850 - val_loss: 0.1007 - val_mae: 0.4435\n",
            "Epoch 34/100\n",
            "130/130 [==============================] - 7s 53ms/step - loss: 0.1759 - mae: 0.4786 - val_loss: 0.0816 - val_mae: 0.3983\n",
            "Epoch 35/100\n",
            "130/130 [==============================] - 7s 54ms/step - loss: 0.1680 - mae: 0.4694 - val_loss: 0.0304 - val_mae: 0.2375\n",
            "Epoch 36/100\n",
            "130/130 [==============================] - 7s 53ms/step - loss: 0.1737 - mae: 0.4765 - val_loss: 0.0613 - val_mae: 0.3440\n",
            "Epoch 37/100\n",
            "130/130 [==============================] - 7s 53ms/step - loss: 0.1693 - mae: 0.4712 - val_loss: 0.0454 - val_mae: 0.2928\n",
            "Epoch 38/100\n",
            "130/130 [==============================] - 7s 54ms/step - loss: 0.1644 - mae: 0.4624 - val_loss: 0.0559 - val_mae: 0.3273\n",
            "Epoch 39/100\n",
            "130/130 [==============================] - 7s 56ms/step - loss: 0.1613 - mae: 0.4610 - val_loss: 0.0981 - val_mae: 0.4383\n",
            "Epoch 40/100\n",
            "130/130 [==============================] - 7s 54ms/step - loss: 0.1684 - mae: 0.4694 - val_loss: 0.0108 - val_mae: 0.1328\n",
            "Epoch 41/100\n",
            "130/130 [==============================] - 7s 54ms/step - loss: 0.1640 - mae: 0.4612 - val_loss: 0.0589 - val_mae: 0.3371\n",
            "Epoch 42/100\n",
            "130/130 [==============================] - 7s 53ms/step - loss: 0.1667 - mae: 0.4663 - val_loss: 0.0800 - val_mae: 0.3936\n",
            "Epoch 43/100\n",
            "130/130 [==============================] - 7s 53ms/step - loss: 0.1705 - mae: 0.4718 - val_loss: 0.1465 - val_mae: 0.5369\n",
            "Epoch 44/100\n",
            "130/130 [==============================] - 7s 55ms/step - loss: 0.1619 - mae: 0.4577 - val_loss: 0.1202 - val_mae: 0.4847\n",
            "Epoch 45/100\n",
            "130/130 [==============================] - 7s 55ms/step - loss: 0.1584 - mae: 0.4560 - val_loss: 0.0987 - val_mae: 0.4389\n",
            "Epoch 46/100\n",
            "130/130 [==============================] - 7s 54ms/step - loss: 0.1556 - mae: 0.4494 - val_loss: 0.0649 - val_mae: 0.3539\n",
            "Epoch 47/100\n",
            "130/130 [==============================] - 7s 53ms/step - loss: 0.1544 - mae: 0.4479 - val_loss: 0.1568 - val_mae: 0.5560\n",
            "Epoch 48/100\n",
            "130/130 [==============================] - 7s 54ms/step - loss: 0.1559 - mae: 0.4495 - val_loss: 0.0772 - val_mae: 0.3869\n",
            "Epoch 49/100\n",
            "130/130 [==============================] - 7s 53ms/step - loss: 0.1533 - mae: 0.4454 - val_loss: 0.0691 - val_mae: 0.3657\n",
            "Epoch 50/100\n",
            "130/130 [==============================] - 7s 52ms/step - loss: 0.1463 - mae: 0.4335 - val_loss: 0.0280 - val_mae: 0.2284\n",
            "Epoch 51/100\n",
            "130/130 [==============================] - 7s 55ms/step - loss: 0.1428 - mae: 0.4303 - val_loss: 0.0383 - val_mae: 0.2684\n",
            "Epoch 52/100\n",
            "130/130 [==============================] - 7s 55ms/step - loss: 0.1430 - mae: 0.4306 - val_loss: 0.1125 - val_mae: 0.4700\n",
            "Epoch 53/100\n",
            "130/130 [==============================] - 7s 54ms/step - loss: 0.1446 - mae: 0.4353 - val_loss: 0.0772 - val_mae: 0.3872\n",
            "Epoch 54/100\n",
            "130/130 [==============================] - 7s 54ms/step - loss: 0.1401 - mae: 0.4250 - val_loss: 0.0889 - val_mae: 0.4164\n",
            "Epoch 55/100\n",
            "130/130 [==============================] - 7s 55ms/step - loss: 0.1412 - mae: 0.4246 - val_loss: 0.0835 - val_mae: 0.4030\n",
            "Epoch 56/100\n",
            "130/130 [==============================] - 7s 54ms/step - loss: 0.1310 - mae: 0.4116 - val_loss: 0.0703 - val_mae: 0.3692\n",
            "Epoch 57/100\n",
            "130/130 [==============================] - 7s 53ms/step - loss: 0.1327 - mae: 0.4126 - val_loss: 0.0853 - val_mae: 0.4070\n",
            "Epoch 58/100\n",
            "130/130 [==============================] - 7s 54ms/step - loss: 0.1344 - mae: 0.4170 - val_loss: 0.0961 - val_mae: 0.4331\n",
            "Epoch 59/100\n",
            "130/130 [==============================] - 7s 55ms/step - loss: 0.1257 - mae: 0.4025 - val_loss: 0.0692 - val_mae: 0.3663\n",
            "Epoch 60/100\n",
            "130/130 [==============================] - 7s 55ms/step - loss: 0.1299 - mae: 0.4093 - val_loss: 0.0730 - val_mae: 0.3762\n",
            "Epoch 61/100\n",
            "130/130 [==============================] - 7s 53ms/step - loss: 0.1267 - mae: 0.4029 - val_loss: 0.0909 - val_mae: 0.4206\n",
            "Epoch 62/100\n",
            "130/130 [==============================] - 7s 55ms/step - loss: 0.1281 - mae: 0.4053 - val_loss: 0.0550 - val_mae: 0.3244\n",
            "Epoch 63/100\n",
            "130/130 [==============================] - 7s 54ms/step - loss: 0.1267 - mae: 0.4023 - val_loss: 0.0441 - val_mae: 0.2889\n",
            "Epoch 64/100\n",
            "130/130 [==============================] - ETA: 0s - loss: 0.1198 - mae: 0.3917\n",
            "MAE dari model < 10% skala data\n",
            "130/130 [==============================] - 7s 55ms/step - loss: 0.1198 - mae: 0.3917 - val_loss: 0.0551 - val_mae: 0.3218\n"
          ]
        }
      ]
    },
    {
      "cell_type": "markdown",
      "source": [
        "### Visual the Result"
      ],
      "metadata": {
        "id": "1_4pysG3VaIL"
      }
    },
    {
      "cell_type": "code",
      "source": [
        "plt.plot(history.history['mae'])\n",
        "plt.plot(history.history['val_mae'])\n",
        "plt.title('accuracy Model')\n",
        "plt.ylabel('Mae')\n",
        "plt.xlabel('epoch')\n",
        "plt.legend(['Train', 'Val'], loc='upper right')\n",
        "plt.show()"
      ],
      "metadata": {
        "colab": {
          "base_uri": "https://localhost:8080/",
          "height": 295
        },
        "id": "pn0M8HYfAf-3",
        "outputId": "c812acd0-3985-4fb2-b706-444b2d5bb5e9"
      },
      "execution_count": 12,
      "outputs": [
        {
          "output_type": "display_data",
          "data": {
            "image/png": "[encoded data removed]",
            "text/plain": [
              "<Figure size 432x288 with 1 Axes>"
            ]
          },
          "metadata": {
            "needs_background": "light"
          }
        }
      ]
    },
    {
      "cell_type": "code",
      "source": [
        "plt.plot(history.history['loss'])\n",
        "plt.plot(history.history['val_loss'])\n",
        "plt.title('Loss Model')\n",
        "plt.ylabel('loss')\n",
        "plt.xlabel('epoch')\n",
        "plt.legend(['Train', 'Val'], loc='upper right')\n",
        "plt.show()"
      ],
      "metadata": {
        "colab": {
          "base_uri": "https://localhost:8080/",
          "height": 295
        },
        "id": "VyFP4bflAjO2",
        "outputId": "cff6b224-09fc-4d82-ac69-dd122a68aef8"
      },
      "execution_count": 13,
      "outputs": [
        {
          "output_type": "display_data",
          "data": {
            "image/png": "[encoded data removed]",
            "text/plain": [
              "<Figure size 432x288 with 1 Axes>"
            ]
          },
          "metadata": {
            "needs_background": "light"
          }
        }
      ]
    }
  ]
}